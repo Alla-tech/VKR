{
  "nbformat": 4,
  "nbformat_minor": 0,
  "metadata": {
    "colab": {
      "provenance": [],
      "mount_file_id": "1xEdq5VrWN1rt6LAZuyzIVTmbRH0HqsZ4",
      "authorship_tag": "ABX9TyP6kgE8Rb2CKgu42RJOa2sA",
      "include_colab_link": true
    },
    "kernelspec": {
      "name": "python3",
      "display_name": "Python 3"
    },
    "language_info": {
      "name": "python"
    }
  },
  "cells": [
    {
      "cell_type": "markdown",
      "metadata": {
        "id": "view-in-github",
        "colab_type": "text"
      },
      "source": [
        "<a href=\"https://colab.research.google.com/github/Alla-tech/VKR/blob/main/%D0%92%D0%9A%D0%A0_%D1%87%D0%B0%D1%81%D1%82%D1%8C_4.ipynb\" target=\"_parent\"><img src=\"https://colab.research.google.com/assets/colab-badge.svg\" alt=\"Open In Colab\"/></a>"
      ]
    },
    {
      "cell_type": "markdown",
      "source": [
        "\n",
        "Импорт библиотек"
      ],
      "metadata": {
        "id": "FOypi68E_cct"
      }
    },
    {
      "cell_type": "code",
      "execution_count": null,
      "metadata": {
        "id": "DWv70fGj_QfK"
      },
      "outputs": [],
      "source": [
        "import numpy as np\n",
        "import pandas as pd\n",
        "import matplotlib.pyplot as plt\n",
        "import tensorflow as tf"
      ]
    },
    {
      "cell_type": "code",
      "source": [
        "from sklearn.model_selection import train_test_split, GridSearchCV"
      ],
      "metadata": {
        "id": "gOEx5gUM_rEf"
      },
      "execution_count": null,
      "outputs": []
    },
    {
      "cell_type": "code",
      "source": [
        "from tensorflow import keras as keras\n",
        "from tensorflow.keras import layers\n",
        "from keras.layers import LeakyReLU"
      ],
      "metadata": {
        "id": "f3gGOzxvTiNS"
      },
      "execution_count": null,
      "outputs": []
    },
    {
      "cell_type": "code",
      "source": [
        "from keras.wrappers.scikit_learn import KerasClassifier\n",
        "from tensorflow.keras.models import Sequential\n",
        "from tensorflow.keras.layers import Dense, Dropout"
      ],
      "metadata": {
        "id": "FKqd-XJfWXAD"
      },
      "execution_count": null,
      "outputs": []
    },
    {
      "cell_type": "code",
      "source": [
        "import pickle"
      ],
      "metadata": {
        "id": "bpnlvxk0DZTe"
      },
      "execution_count": null,
      "outputs": []
    },
    {
      "cell_type": "markdown",
      "source": [
        "5. Нейронная сеть, рекомендующая соотношение матрица - наполнитель"
      ],
      "metadata": {
        "id": "OfLQQgif_rSx"
      }
    },
    {
      "cell_type": "code",
      "source": [
        "df = pd.read_excel(r\"/content/drive/MyDrive/resultpart_2.xlsx\")"
      ],
      "metadata": {
        "id": "J07aTz0KANXU"
      },
      "execution_count": null,
      "outputs": []
    },
    {
      "cell_type": "code",
      "source": [
        "Y_ns=np.array(df['Соотношение матрица-наполнитель'])\n",
        "X_ns=np.array(df.drop(['Соотношение матрица-наполнитель'], axis=1))"
      ],
      "metadata": {
        "id": "qeqZAuY35SEm"
      },
      "execution_count": null,
      "outputs": []
    },
    {
      "cell_type": "code",
      "source": [
        "#Разбиваем выборки на обучающую и тестовую\n",
        "x_train, x_test, y_train, y_test = train_test_split(X_ns, Y_ns, test_size = 0.3, random_state = 1)"
      ],
      "metadata": {
        "id": "2ih_KuQ85tOr"
      },
      "execution_count": null,
      "outputs": []
    },
    {
      "cell_type": "code",
      "source": [
        "#Нормализуем данные\n",
        "x_train_n = tf.keras.layers.Normalization(axis =-1)\n",
        "x_train_n.adapt(np.array(x_train))"
      ],
      "metadata": {
        "id": "aZMlm_g2ShCA"
      },
      "execution_count": null,
      "outputs": []
    },
    {
      "cell_type": "code",
      "source": [
        "#Создаем модель\n",
        "def create_model(lyrs=[32], act='softmax', opt='SGD', dr=0.1):\n",
        "    seed = 7\n",
        "    np.random.seed(seed)\n",
        "    tf.random.set_seed(seed)\n",
        "    \n",
        "    model = Sequential()\n",
        "    model.add(Dense(lyrs[0], input_dim=x_train.shape[1], activation=act)) \n",
        "    for i in range(1,len(lyrs)):\n",
        "        model.add(Dense(lyrs[i], activation=act))\n",
        "    \n",
        "    model.add(Dropout(dr))\n",
        "#создаем выходной слой\n",
        "    model.add(Dense(3, activation='tanh')) \n",
        "    model.compile(loss='binary_crossentropy', optimizer=opt, metrics=['mae', 'accuracy'])\n",
        "    return model"
      ],
      "metadata": {
        "id": "vcQ8nSNkT_-E"
      },
      "execution_count": null,
      "outputs": []
    },
    {
      "cell_type": "code",
      "source": [
        "#Попытка определить лучшие значения для модели\n",
        "model = KerasClassifier(build_fn=create_model, epochs=50, batch_size=4, verbose=0)\n",
        "\n",
        "layers = [[8],[16, 4],[32, 8, 2],[14, 6, 3], [64, 64, 3], [128, 64, 16, 3]]\n",
        "param_grid = dict(lyrs=layers)\n",
        "\n",
        "grid = GridSearchCV(estimator=model, param_grid=param_grid, cv=10, verbose=2)\n",
        "grid_result = grid.fit(x_train, y_train)\n"
      ],
      "metadata": {
        "colab": {
          "base_uri": "https://localhost:8080/"
        },
        "id": "B3Q-nuCz19Z-",
        "outputId": "d5641b9f-5815-40c5-8d9f-40f6ad79ba06"
      },
      "execution_count": null,
      "outputs": [
        {
          "output_type": "stream",
          "name": "stderr",
          "text": [
            "<ipython-input-33-ede161fcc939>:2: DeprecationWarning: KerasClassifier is deprecated, use Sci-Keras (https://github.com/adriangb/scikeras) instead. See https://www.adriangb.com/scikeras/stable/migration.html for help migrating.\n",
            "  model = KerasClassifier(build_fn=create_model, epochs=50, batch_size=4, verbose=0)\n"
          ]
        },
        {
          "output_type": "stream",
          "name": "stdout",
          "text": [
            "Fitting 10 folds for each of 6 candidates, totalling 60 fits\n",
            "[CV] END ...........................................lyrs=[8]; total time=  11.0s\n",
            "[CV] END ...........................................lyrs=[8]; total time=  11.0s\n",
            "[CV] END ...........................................lyrs=[8]; total time=  11.3s\n",
            "[CV] END ...........................................lyrs=[8]; total time=  10.9s\n",
            "[CV] END ...........................................lyrs=[8]; total time=   9.6s\n",
            "[CV] END ...........................................lyrs=[8]; total time=   9.8s\n",
            "[CV] END ...........................................lyrs=[8]; total time=  11.0s\n",
            "[CV] END ...........................................lyrs=[8]; total time=  11.0s\n",
            "[CV] END ...........................................lyrs=[8]; total time=  11.0s\n",
            "[CV] END ...........................................lyrs=[8]; total time=   9.7s\n",
            "[CV] END .......................................lyrs=[16, 4]; total time=  11.0s\n",
            "[CV] END .......................................lyrs=[16, 4]; total time=  11.1s\n",
            "[CV] END .......................................lyrs=[16, 4]; total time=  10.3s\n",
            "[CV] END .......................................lyrs=[16, 4]; total time=  10.5s\n",
            "[CV] END .......................................lyrs=[16, 4]; total time=  10.4s\n",
            "[CV] END .......................................lyrs=[16, 4]; total time=  11.8s\n",
            "[CV] END .......................................lyrs=[16, 4]; total time=  11.4s\n",
            "[CV] END .......................................lyrs=[16, 4]; total time=  10.5s\n",
            "[CV] END .......................................lyrs=[16, 4]; total time=  10.5s\n",
            "[CV] END .......................................lyrs=[16, 4]; total time=  10.6s\n",
            "[CV] END ....................................lyrs=[32, 8, 2]; total time=  11.1s\n",
            "[CV] END ....................................lyrs=[32, 8, 2]; total time=  10.9s\n",
            "[CV] END ....................................lyrs=[32, 8, 2]; total time=  11.0s\n",
            "[CV] END ....................................lyrs=[32, 8, 2]; total time=  11.1s\n",
            "[CV] END ....................................lyrs=[32, 8, 2]; total time=  11.1s\n",
            "[CV] END ....................................lyrs=[32, 8, 2]; total time=  11.1s\n",
            "[CV] END ....................................lyrs=[32, 8, 2]; total time=  11.1s\n",
            "[CV] END ....................................lyrs=[32, 8, 2]; total time=  11.0s\n",
            "[CV] END ....................................lyrs=[32, 8, 2]; total time=  11.5s\n",
            "[CV] END ....................................lyrs=[32, 8, 2]; total time=  11.0s\n",
            "[CV] END ....................................lyrs=[14, 6, 3]; total time=  10.8s\n",
            "[CV] END ....................................lyrs=[14, 6, 3]; total time=  10.9s\n",
            "[CV] END ....................................lyrs=[14, 6, 3]; total time=  11.1s\n",
            "[CV] END ....................................lyrs=[14, 6, 3]; total time=  11.1s\n",
            "[CV] END ....................................lyrs=[14, 6, 3]; total time=  11.1s\n",
            "[CV] END ....................................lyrs=[14, 6, 3]; total time=  11.0s\n",
            "[CV] END ....................................lyrs=[14, 6, 3]; total time=  12.3s\n",
            "[CV] END ....................................lyrs=[14, 6, 3]; total time=  11.1s\n",
            "[CV] END ....................................lyrs=[14, 6, 3]; total time=  11.1s\n",
            "[CV] END ....................................lyrs=[14, 6, 3]; total time=  11.1s\n",
            "[CV] END ...................................lyrs=[64, 64, 3]; total time=  21.7s\n",
            "[CV] END ...................................lyrs=[64, 64, 3]; total time=  21.3s\n",
            "[CV] END ...................................lyrs=[64, 64, 3]; total time=  11.3s\n",
            "[CV] END ...................................lyrs=[64, 64, 3]; total time=  21.3s\n",
            "[CV] END ...................................lyrs=[64, 64, 3]; total time=  11.5s\n",
            "[CV] END ...................................lyrs=[64, 64, 3]; total time=  21.3s\n",
            "[CV] END ...................................lyrs=[64, 64, 3]; total time=  11.3s\n",
            "[CV] END ...................................lyrs=[64, 64, 3]; total time=  21.4s\n",
            "[CV] END ...................................lyrs=[64, 64, 3]; total time=  11.4s\n",
            "[CV] END ...................................lyrs=[64, 64, 3]; total time=  21.3s\n",
            "[CV] END ..............................lyrs=[128, 64, 16, 3]; total time=  12.0s\n",
            "[CV] END ..............................lyrs=[128, 64, 16, 3]; total time=  21.7s\n",
            "[CV] END ..............................lyrs=[128, 64, 16, 3]; total time=  12.0s\n",
            "[CV] END ..............................lyrs=[128, 64, 16, 3]; total time=  21.4s\n",
            "[CV] END ..............................lyrs=[128, 64, 16, 3]; total time=  21.4s\n",
            "[CV] END ..............................lyrs=[128, 64, 16, 3]; total time=  11.5s\n",
            "[CV] END ..............................lyrs=[128, 64, 16, 3]; total time=  21.4s\n",
            "[CV] END ..............................lyrs=[128, 64, 16, 3]; total time=  21.4s\n",
            "[CV] END ..............................lyrs=[128, 64, 16, 3]; total time=  11.5s\n",
            "[CV] END ..............................lyrs=[128, 64, 16, 3]; total time=  21.4s\n"
          ]
        }
      ]
    },
    {
      "cell_type": "code",
      "source": [
        "# результаты\n",
        "print(\"Значения: %f которые лучше использовать %s\" % (grid_result.best_score_, grid_result.best_params_))\n",
        "means = grid_result.cv_results_['mean_test_score']\n",
        "stds = grid_result.cv_results_['std_test_score']\n",
        "params = grid_result.cv_results_['params']\n",
        "for mean, stdev, param in zip(means, stds, params):\n",
        "    print(\"%f (%f) with: %r\" % (mean, stdev, param))"
      ],
      "metadata": {
        "colab": {
          "base_uri": "https://localhost:8080/"
        },
        "id": "m9KuuD237Ok6",
        "outputId": "95d1cf72-360c-4075-f161-63ec1d7c8b28"
      },
      "execution_count": null,
      "outputs": [
        {
          "output_type": "stream",
          "name": "stdout",
          "text": [
            "Значения: 0.002778 которые лучше использовать {'lyrs': [8]}\n",
            "0.002778 (0.008333) with: {'lyrs': [8]}\n",
            "0.001389 (0.004167) with: {'lyrs': [16, 4]}\n",
            "0.002778 (0.008333) with: {'lyrs': [32, 8, 2]}\n",
            "0.001389 (0.004167) with: {'lyrs': [14, 6, 3]}\n",
            "0.001389 (0.004167) with: {'lyrs': [64, 64, 3]}\n",
            "0.002778 (0.008333) with: {'lyrs': [128, 64, 16, 3]}\n"
          ]
        }
      ]
    },
    {
      "cell_type": "code",
      "source": [
        "#Построение модели\n",
        "model = create_model(lyrs=[8], dr=0.05)"
      ],
      "metadata": {
        "id": "S3AKg2wGxmD2"
      },
      "execution_count": null,
      "outputs": []
    },
    {
      "cell_type": "code",
      "source": [
        "#Посмотрим распределение признаков\n",
        "print(model.summary())"
      ],
      "metadata": {
        "colab": {
          "base_uri": "https://localhost:8080/"
        },
        "id": "I-xXbL9b5yaD",
        "outputId": "60acfa87-b6cf-46d5-d8d9-93bb42df0a22"
      },
      "execution_count": null,
      "outputs": [
        {
          "output_type": "stream",
          "name": "stdout",
          "text": [
            "Model: \"sequential_61\"\n",
            "_________________________________________________________________\n",
            " Layer (type)                Output Shape              Param #   \n",
            "=================================================================\n",
            " dense_222 (Dense)           (None, 8)                 112       \n",
            "                                                                 \n",
            " dropout_61 (Dropout)        (None, 8)                 0         \n",
            "                                                                 \n",
            " dense_223 (Dense)           (None, 3)                 27        \n",
            "                                                                 \n",
            "=================================================================\n",
            "Total params: 139\n",
            "Trainable params: 139\n",
            "Non-trainable params: 0\n",
            "_________________________________________________________________\n",
            "None\n"
          ]
        }
      ]
    },
    {
      "cell_type": "code",
      "source": [
        "#Обучаем нейросеть, соотношение 80 на 20 CV\n",
        "model_hist = model.fit(x_train, y_train, epochs = 100, verbose = 1, validation_split = 0.2)"
      ],
      "metadata": {
        "colab": {
          "base_uri": "https://localhost:8080/"
        },
        "id": "67G7mmiLzChM",
        "outputId": "1ee363d0-6c05-466b-9d7b-aa38e38961e5"
      },
      "execution_count": null,
      "outputs": [
        {
          "output_type": "stream",
          "name": "stdout",
          "text": [
            "Epoch 1/100\n",
            "18/18 [==============================] - 1s 13ms/step - loss: 22.9745 - mae: 2.8692 - accuracy: 0.0000e+00 - val_loss: 14.1276 - val_mae: 2.5081 - val_accuracy: 0.0000e+00\n",
            "Epoch 2/100\n",
            "18/18 [==============================] - 0s 4ms/step - loss: 13.5458 - mae: 2.5102 - accuracy: 0.0000e+00 - val_loss: 12.2823 - val_mae: 2.3666 - val_accuracy: 0.0000e+00\n",
            "Epoch 3/100\n",
            "18/18 [==============================] - 0s 4ms/step - loss: 11.8950 - mae: 2.4230 - accuracy: 0.0000e+00 - val_loss: 10.9197 - val_mae: 2.3199 - val_accuracy: 0.0000e+00\n",
            "Epoch 4/100\n",
            "18/18 [==============================] - 0s 4ms/step - loss: 10.5623 - mae: 2.3932 - accuracy: 0.0000e+00 - val_loss: 9.6859 - val_mae: 2.3025 - val_accuracy: 0.0000e+00\n",
            "Epoch 5/100\n",
            "18/18 [==============================] - 0s 4ms/step - loss: 9.3151 - mae: 2.3805 - accuracy: 0.0000e+00 - val_loss: 8.4984 - val_mae: 2.2959 - val_accuracy: 0.0000e+00\n",
            "Epoch 6/100\n",
            "18/18 [==============================] - 0s 3ms/step - loss: 8.0875 - mae: 2.3754 - accuracy: 0.0000e+00 - val_loss: 7.3295 - val_mae: 2.2933 - val_accuracy: 0.0000e+00\n",
            "Epoch 7/100\n",
            "18/18 [==============================] - 0s 4ms/step - loss: 6.8758 - mae: 2.3724 - accuracy: 0.0000e+00 - val_loss: 6.1670 - val_mae: 2.2923 - val_accuracy: 0.0000e+00\n",
            "Epoch 8/100\n",
            "18/18 [==============================] - 0s 4ms/step - loss: 5.6296 - mae: 2.3716 - accuracy: 0.0000e+00 - val_loss: 5.0031 - val_mae: 2.2919 - val_accuracy: 0.0000e+00\n",
            "Epoch 9/100\n",
            "18/18 [==============================] - 0s 4ms/step - loss: 4.4911 - mae: 2.3699 - accuracy: 0.0000e+00 - val_loss: 3.8480 - val_mae: 2.2917 - val_accuracy: 0.0000e+00\n",
            "Epoch 10/100\n",
            "18/18 [==============================] - 0s 4ms/step - loss: 3.2303 - mae: 2.3706 - accuracy: 0.0000e+00 - val_loss: 2.6889 - val_mae: 2.2917 - val_accuracy: 0.0000e+00\n",
            "Epoch 11/100\n",
            "18/18 [==============================] - 0s 4ms/step - loss: 2.1115 - mae: 2.3695 - accuracy: 0.0000e+00 - val_loss: 1.5395 - val_mae: 2.2917 - val_accuracy: 0.0000e+00\n",
            "Epoch 12/100\n",
            "18/18 [==============================] - 0s 4ms/step - loss: 0.8627 - mae: 2.3700 - accuracy: 0.0000e+00 - val_loss: 0.3957 - val_mae: 2.2916 - val_accuracy: 0.0000e+00\n",
            "Epoch 13/100\n",
            "18/18 [==============================] - 0s 3ms/step - loss: -0.2261 - mae: 2.3696 - accuracy: 0.0000e+00 - val_loss: -0.7068 - val_mae: 2.2916 - val_accuracy: 0.0000e+00\n",
            "Epoch 14/100\n",
            "18/18 [==============================] - 0s 3ms/step - loss: -1.3058 - mae: 2.3696 - accuracy: 0.0000e+00 - val_loss: -1.7665 - val_mae: 2.2916 - val_accuracy: 0.0000e+00\n",
            "Epoch 15/100\n",
            "18/18 [==============================] - 0s 4ms/step - loss: -2.5505 - mae: 2.3700 - accuracy: 0.0000e+00 - val_loss: -2.6712 - val_mae: 2.2916 - val_accuracy: 0.0000e+00\n",
            "Epoch 16/100\n",
            "18/18 [==============================] - 0s 4ms/step - loss: -3.2613 - mae: 2.3694 - accuracy: 0.0000e+00 - val_loss: -3.4500 - val_mae: 2.2916 - val_accuracy: 0.0000e+00\n",
            "Epoch 17/100\n",
            "18/18 [==============================] - 0s 4ms/step - loss: -4.2058 - mae: 2.3707 - accuracy: 0.0000e+00 - val_loss: -3.3669 - val_mae: 2.2916 - val_accuracy: 0.0000e+00\n",
            "Epoch 18/100\n",
            "18/18 [==============================] - 0s 3ms/step - loss: -4.1920 - mae: 2.3708 - accuracy: 0.0000e+00 - val_loss: -3.3669 - val_mae: 2.2916 - val_accuracy: 0.0000e+00\n",
            "Epoch 19/100\n",
            "18/18 [==============================] - 0s 4ms/step - loss: -4.0163 - mae: 2.3692 - accuracy: 0.0000e+00 - val_loss: -3.4500 - val_mae: 2.2916 - val_accuracy: 0.0000e+00\n",
            "Epoch 20/100\n",
            "18/18 [==============================] - 0s 5ms/step - loss: -4.1176 - mae: 2.3702 - accuracy: 0.0000e+00 - val_loss: -3.4500 - val_mae: 2.2916 - val_accuracy: 0.0000e+00\n",
            "Epoch 21/100\n",
            "18/18 [==============================] - 0s 4ms/step - loss: -4.0946 - mae: 2.3705 - accuracy: 0.0000e+00 - val_loss: -3.5330 - val_mae: 2.2916 - val_accuracy: 0.0000e+00\n",
            "Epoch 22/100\n",
            "18/18 [==============================] - 0s 5ms/step - loss: -4.1218 - mae: 2.3697 - accuracy: 0.0000e+00 - val_loss: -3.3669 - val_mae: 2.2916 - val_accuracy: 0.0000e+00\n",
            "Epoch 23/100\n",
            "18/18 [==============================] - 0s 3ms/step - loss: -4.1895 - mae: 2.3708 - accuracy: 0.0000e+00 - val_loss: -3.3767 - val_mae: 2.2916 - val_accuracy: 0.0000e+00\n",
            "Epoch 24/100\n",
            "18/18 [==============================] - 0s 3ms/step - loss: -3.9119 - mae: 2.3687 - accuracy: 0.0000e+00 - val_loss: -3.5458 - val_mae: 2.2916 - val_accuracy: 0.0000e+00\n",
            "Epoch 25/100\n",
            "18/18 [==============================] - 0s 3ms/step - loss: -4.0397 - mae: 2.3692 - accuracy: 0.0000e+00 - val_loss: -3.3669 - val_mae: 2.2916 - val_accuracy: 0.0000e+00\n",
            "Epoch 26/100\n",
            "18/18 [==============================] - 0s 4ms/step - loss: -4.1647 - mae: 2.3703 - accuracy: 0.0000e+00 - val_loss: -3.9513 - val_mae: 2.2916 - val_accuracy: 0.0000e+00\n",
            "Epoch 27/100\n",
            "18/18 [==============================] - 0s 4ms/step - loss: -4.2337 - mae: 2.3708 - accuracy: 0.0000e+00 - val_loss: -4.0900 - val_mae: 2.2916 - val_accuracy: 0.0000e+00\n",
            "Epoch 28/100\n",
            "18/18 [==============================] - 0s 4ms/step - loss: -4.0988 - mae: 2.3699 - accuracy: 0.0000e+00 - val_loss: -3.4500 - val_mae: 2.2916 - val_accuracy: 0.0000e+00\n",
            "Epoch 29/100\n",
            "18/18 [==============================] - 0s 5ms/step - loss: -4.1752 - mae: 2.3710 - accuracy: 0.0000e+00 - val_loss: -3.7421 - val_mae: 2.2916 - val_accuracy: 0.0000e+00\n",
            "Epoch 30/100\n",
            "18/18 [==============================] - 0s 3ms/step - loss: -4.1442 - mae: 2.3703 - accuracy: 0.0000e+00 - val_loss: -3.7421 - val_mae: 2.2916 - val_accuracy: 0.0000e+00\n",
            "Epoch 31/100\n",
            "18/18 [==============================] - 0s 4ms/step - loss: -4.2396 - mae: 2.3708 - accuracy: 0.0000e+00 - val_loss: -3.9513 - val_mae: 2.2916 - val_accuracy: 0.0000e+00\n",
            "Epoch 32/100\n",
            "18/18 [==============================] - 0s 3ms/step - loss: -4.0497 - mae: 2.3691 - accuracy: 0.0000e+00 - val_loss: -4.2287 - val_mae: 2.2916 - val_accuracy: 0.0000e+00\n",
            "Epoch 33/100\n",
            "18/18 [==============================] - 0s 4ms/step - loss: -4.1311 - mae: 2.3700 - accuracy: 0.0000e+00 - val_loss: -4.0900 - val_mae: 2.2916 - val_accuracy: 0.0000e+00\n",
            "Epoch 34/100\n",
            "18/18 [==============================] - 0s 4ms/step - loss: -4.1635 - mae: 2.3703 - accuracy: 0.0000e+00 - val_loss: -4.2287 - val_mae: 2.2916 - val_accuracy: 0.0000e+00\n",
            "Epoch 35/100\n",
            "18/18 [==============================] - 0s 4ms/step - loss: -4.1363 - mae: 2.3705 - accuracy: 0.0000e+00 - val_loss: -4.2287 - val_mae: 2.2916 - val_accuracy: 0.0000e+00\n",
            "Epoch 36/100\n",
            "18/18 [==============================] - 0s 3ms/step - loss: -4.1344 - mae: 2.3705 - accuracy: 0.0000e+00 - val_loss: -4.2287 - val_mae: 2.2916 - val_accuracy: 0.0000e+00\n",
            "Epoch 37/100\n",
            "18/18 [==============================] - 0s 4ms/step - loss: -4.1578 - mae: 2.3705 - accuracy: 0.0000e+00 - val_loss: -4.2287 - val_mae: 2.2916 - val_accuracy: 0.0000e+00\n",
            "Epoch 38/100\n",
            "18/18 [==============================] - 0s 5ms/step - loss: -4.0085 - mae: 2.3684 - accuracy: 0.0000e+00 - val_loss: -4.2287 - val_mae: 2.2916 - val_accuracy: 0.0000e+00\n",
            "Epoch 39/100\n",
            "18/18 [==============================] - 0s 3ms/step - loss: -3.9911 - mae: 2.3689 - accuracy: 0.0000e+00 - val_loss: -4.2287 - val_mae: 2.2916 - val_accuracy: 0.0000e+00\n",
            "Epoch 40/100\n",
            "18/18 [==============================] - 0s 3ms/step - loss: -4.0315 - mae: 2.3692 - accuracy: 0.0000e+00 - val_loss: -4.2287 - val_mae: 2.2916 - val_accuracy: 0.0000e+00\n",
            "Epoch 41/100\n",
            "18/18 [==============================] - 0s 3ms/step - loss: -4.0877 - mae: 2.3699 - accuracy: 0.0000e+00 - val_loss: -4.2287 - val_mae: 2.2916 - val_accuracy: 0.0000e+00\n",
            "Epoch 42/100\n",
            "18/18 [==============================] - 0s 4ms/step - loss: -4.1413 - mae: 2.3700 - accuracy: 0.0000e+00 - val_loss: -4.2287 - val_mae: 2.2916 - val_accuracy: 0.0000e+00\n",
            "Epoch 43/100\n",
            "18/18 [==============================] - 0s 3ms/step - loss: -4.1517 - mae: 2.3697 - accuracy: 0.0000e+00 - val_loss: -4.2287 - val_mae: 2.2916 - val_accuracy: 0.0000e+00\n",
            "Epoch 44/100\n",
            "18/18 [==============================] - 0s 4ms/step - loss: -4.1135 - mae: 2.3697 - accuracy: 0.0000e+00 - val_loss: -4.2287 - val_mae: 2.2916 - val_accuracy: 0.0000e+00\n",
            "Epoch 45/100\n",
            "18/18 [==============================] - 0s 4ms/step - loss: -4.1805 - mae: 2.3699 - accuracy: 0.0000e+00 - val_loss: -4.2287 - val_mae: 2.2916 - val_accuracy: 0.0000e+00\n",
            "Epoch 46/100\n",
            "18/18 [==============================] - 0s 4ms/step - loss: -4.0993 - mae: 2.3697 - accuracy: 0.0000e+00 - val_loss: -4.2287 - val_mae: 2.2916 - val_accuracy: 0.0000e+00\n",
            "Epoch 47/100\n",
            "18/18 [==============================] - 0s 3ms/step - loss: -4.1418 - mae: 2.3702 - accuracy: 0.0000e+00 - val_loss: -4.2287 - val_mae: 2.2916 - val_accuracy: 0.0000e+00\n",
            "Epoch 48/100\n",
            "18/18 [==============================] - 0s 4ms/step - loss: -4.0885 - mae: 2.3697 - accuracy: 0.0000e+00 - val_loss: -4.2287 - val_mae: 2.2916 - val_accuracy: 0.0000e+00\n",
            "Epoch 49/100\n",
            "18/18 [==============================] - 0s 4ms/step - loss: -4.2808 - mae: 2.3710 - accuracy: 0.0000e+00 - val_loss: -4.2287 - val_mae: 2.2916 - val_accuracy: 0.0000e+00\n",
            "Epoch 50/100\n",
            "18/18 [==============================] - 0s 4ms/step - loss: -4.0466 - mae: 2.3694 - accuracy: 0.0000e+00 - val_loss: -4.2287 - val_mae: 2.2916 - val_accuracy: 0.0000e+00\n",
            "Epoch 51/100\n",
            "18/18 [==============================] - 0s 3ms/step - loss: -4.0222 - mae: 2.3689 - accuracy: 0.0000e+00 - val_loss: -4.2287 - val_mae: 2.2916 - val_accuracy: 0.0000e+00\n",
            "Epoch 52/100\n",
            "18/18 [==============================] - 0s 3ms/step - loss: -4.1691 - mae: 2.3697 - accuracy: 0.0000e+00 - val_loss: -4.2287 - val_mae: 2.2916 - val_accuracy: 0.0000e+00\n",
            "Epoch 53/100\n",
            "18/18 [==============================] - 0s 3ms/step - loss: -4.2601 - mae: 2.3705 - accuracy: 0.0000e+00 - val_loss: -4.2287 - val_mae: 2.2916 - val_accuracy: 0.0000e+00\n",
            "Epoch 54/100\n",
            "18/18 [==============================] - 0s 3ms/step - loss: -4.1480 - mae: 2.3695 - accuracy: 0.0000e+00 - val_loss: -4.2287 - val_mae: 2.2916 - val_accuracy: 0.0000e+00\n",
            "Epoch 55/100\n",
            "18/18 [==============================] - 0s 5ms/step - loss: -4.1115 - mae: 2.3694 - accuracy: 0.0000e+00 - val_loss: -4.2287 - val_mae: 2.2916 - val_accuracy: 0.0000e+00\n",
            "Epoch 56/100\n",
            "18/18 [==============================] - 0s 4ms/step - loss: -4.3316 - mae: 2.3713 - accuracy: 0.0000e+00 - val_loss: -4.2287 - val_mae: 2.2916 - val_accuracy: 0.0000e+00\n",
            "Epoch 57/100\n",
            "18/18 [==============================] - 0s 4ms/step - loss: -4.0979 - mae: 2.3689 - accuracy: 0.0000e+00 - val_loss: -4.2287 - val_mae: 2.2916 - val_accuracy: 0.0000e+00\n",
            "Epoch 58/100\n",
            "18/18 [==============================] - 0s 3ms/step - loss: -4.1683 - mae: 2.3702 - accuracy: 0.0000e+00 - val_loss: -4.2287 - val_mae: 2.2916 - val_accuracy: 0.0000e+00\n",
            "Epoch 59/100\n",
            "18/18 [==============================] - 0s 3ms/step - loss: -4.1758 - mae: 2.3705 - accuracy: 0.0000e+00 - val_loss: -4.2287 - val_mae: 2.2916 - val_accuracy: 0.0000e+00\n",
            "Epoch 60/100\n",
            "18/18 [==============================] - 0s 4ms/step - loss: -3.9560 - mae: 2.3678 - accuracy: 0.0000e+00 - val_loss: -4.2287 - val_mae: 2.2916 - val_accuracy: 0.0000e+00\n",
            "Epoch 61/100\n",
            "18/18 [==============================] - 0s 3ms/step - loss: -4.3092 - mae: 2.3707 - accuracy: 0.0000e+00 - val_loss: -4.2287 - val_mae: 2.2916 - val_accuracy: 0.0000e+00\n",
            "Epoch 62/100\n",
            "18/18 [==============================] - 0s 6ms/step - loss: -4.1244 - mae: 2.3698 - accuracy: 0.0000e+00 - val_loss: -4.2287 - val_mae: 2.2916 - val_accuracy: 0.0000e+00\n",
            "Epoch 63/100\n",
            "18/18 [==============================] - 0s 3ms/step - loss: -4.1821 - mae: 2.3705 - accuracy: 0.0000e+00 - val_loss: -4.2287 - val_mae: 2.2916 - val_accuracy: 0.0000e+00\n",
            "Epoch 64/100\n",
            "18/18 [==============================] - 0s 3ms/step - loss: -3.9879 - mae: 2.3682 - accuracy: 0.0000e+00 - val_loss: -4.2287 - val_mae: 2.2916 - val_accuracy: 0.0000e+00\n",
            "Epoch 65/100\n",
            "18/18 [==============================] - 0s 3ms/step - loss: -4.1323 - mae: 2.3700 - accuracy: 0.0000e+00 - val_loss: -4.2287 - val_mae: 2.2916 - val_accuracy: 0.0000e+00\n",
            "Epoch 66/100\n",
            "18/18 [==============================] - 0s 4ms/step - loss: -4.0990 - mae: 2.3697 - accuracy: 0.0000e+00 - val_loss: -4.2287 - val_mae: 2.2916 - val_accuracy: 0.0000e+00\n",
            "Epoch 67/100\n",
            "18/18 [==============================] - 0s 3ms/step - loss: -4.1361 - mae: 2.3698 - accuracy: 0.0000e+00 - val_loss: -4.2287 - val_mae: 2.2916 - val_accuracy: 0.0000e+00\n",
            "Epoch 68/100\n",
            "18/18 [==============================] - 0s 4ms/step - loss: -4.1154 - mae: 2.3690 - accuracy: 0.0000e+00 - val_loss: -4.2287 - val_mae: 2.2916 - val_accuracy: 0.0000e+00\n",
            "Epoch 69/100\n",
            "18/18 [==============================] - 0s 3ms/step - loss: -4.1857 - mae: 2.3694 - accuracy: 0.0000e+00 - val_loss: -4.2287 - val_mae: 2.2916 - val_accuracy: 0.0000e+00\n",
            "Epoch 70/100\n",
            "18/18 [==============================] - 0s 3ms/step - loss: -4.1829 - mae: 2.3700 - accuracy: 0.0000e+00 - val_loss: -4.2287 - val_mae: 2.2916 - val_accuracy: 0.0000e+00\n",
            "Epoch 71/100\n",
            "18/18 [==============================] - 0s 3ms/step - loss: -4.3273 - mae: 2.3711 - accuracy: 0.0000e+00 - val_loss: -4.2287 - val_mae: 2.2916 - val_accuracy: 0.0000e+00\n",
            "Epoch 72/100\n",
            "18/18 [==============================] - 0s 4ms/step - loss: -4.1572 - mae: 2.3692 - accuracy: 0.0000e+00 - val_loss: -4.2287 - val_mae: 2.2916 - val_accuracy: 0.0000e+00\n",
            "Epoch 73/100\n",
            "18/18 [==============================] - 0s 3ms/step - loss: -4.1616 - mae: 2.3703 - accuracy: 0.0000e+00 - val_loss: -4.2287 - val_mae: 2.2916 - val_accuracy: 0.0000e+00\n",
            "Epoch 74/100\n",
            "18/18 [==============================] - 0s 3ms/step - loss: -4.3202 - mae: 2.3715 - accuracy: 0.0000e+00 - val_loss: -4.2287 - val_mae: 2.2916 - val_accuracy: 0.0000e+00\n",
            "Epoch 75/100\n",
            "18/18 [==============================] - 0s 3ms/step - loss: -4.3102 - mae: 2.3716 - accuracy: 0.0000e+00 - val_loss: -4.2287 - val_mae: 2.2916 - val_accuracy: 0.0000e+00\n",
            "Epoch 76/100\n",
            "18/18 [==============================] - 0s 4ms/step - loss: -4.1742 - mae: 2.3705 - accuracy: 0.0000e+00 - val_loss: -4.2287 - val_mae: 2.2916 - val_accuracy: 0.0000e+00\n",
            "Epoch 77/100\n",
            "18/18 [==============================] - 0s 4ms/step - loss: -4.1306 - mae: 2.3697 - accuracy: 0.0000e+00 - val_loss: -4.2287 - val_mae: 2.2916 - val_accuracy: 0.0000e+00\n",
            "Epoch 78/100\n",
            "18/18 [==============================] - 0s 3ms/step - loss: -4.1259 - mae: 2.3692 - accuracy: 0.0000e+00 - val_loss: -4.2287 - val_mae: 2.2916 - val_accuracy: 0.0000e+00\n",
            "Epoch 79/100\n",
            "18/18 [==============================] - 0s 4ms/step - loss: -4.2182 - mae: 2.3703 - accuracy: 0.0000e+00 - val_loss: -4.2287 - val_mae: 2.2916 - val_accuracy: 0.0000e+00\n",
            "Epoch 80/100\n",
            "18/18 [==============================] - 0s 3ms/step - loss: -4.1688 - mae: 2.3700 - accuracy: 0.0000e+00 - val_loss: -4.2287 - val_mae: 2.2916 - val_accuracy: 0.0000e+00\n",
            "Epoch 81/100\n",
            "18/18 [==============================] - 0s 3ms/step - loss: -4.1174 - mae: 2.3690 - accuracy: 0.0000e+00 - val_loss: -4.2287 - val_mae: 2.2916 - val_accuracy: 0.0000e+00\n",
            "Epoch 82/100\n",
            "18/18 [==============================] - 0s 3ms/step - loss: -4.2541 - mae: 2.3705 - accuracy: 0.0000e+00 - val_loss: -4.2287 - val_mae: 2.2916 - val_accuracy: 0.0000e+00\n",
            "Epoch 83/100\n",
            "18/18 [==============================] - 0s 4ms/step - loss: -4.3946 - mae: 2.3718 - accuracy: 0.0000e+00 - val_loss: -4.2287 - val_mae: 2.2916 - val_accuracy: 0.0000e+00\n",
            "Epoch 84/100\n",
            "18/18 [==============================] - 0s 4ms/step - loss: -4.0577 - mae: 2.3692 - accuracy: 0.0000e+00 - val_loss: -4.2287 - val_mae: 2.2916 - val_accuracy: 0.0000e+00\n",
            "Epoch 85/100\n",
            "18/18 [==============================] - 0s 4ms/step - loss: -4.1846 - mae: 2.3702 - accuracy: 0.0000e+00 - val_loss: -4.2287 - val_mae: 2.2916 - val_accuracy: 0.0000e+00\n",
            "Epoch 86/100\n",
            "18/18 [==============================] - 0s 4ms/step - loss: -4.2059 - mae: 2.3703 - accuracy: 0.0000e+00 - val_loss: -4.2287 - val_mae: 2.2916 - val_accuracy: 0.0000e+00\n",
            "Epoch 87/100\n",
            "18/18 [==============================] - 0s 3ms/step - loss: -4.1639 - mae: 2.3700 - accuracy: 0.0000e+00 - val_loss: -4.2287 - val_mae: 2.2916 - val_accuracy: 0.0000e+00\n",
            "Epoch 88/100\n",
            "18/18 [==============================] - 0s 5ms/step - loss: -4.2257 - mae: 2.3700 - accuracy: 0.0000e+00 - val_loss: -4.2287 - val_mae: 2.2916 - val_accuracy: 0.0000e+00\n",
            "Epoch 89/100\n",
            "18/18 [==============================] - 0s 4ms/step - loss: -4.2323 - mae: 2.3702 - accuracy: 0.0000e+00 - val_loss: -4.2287 - val_mae: 2.2916 - val_accuracy: 0.0000e+00\n",
            "Epoch 90/100\n",
            "18/18 [==============================] - 0s 3ms/step - loss: -4.2961 - mae: 2.3708 - accuracy: 0.0000e+00 - val_loss: -4.2287 - val_mae: 2.2916 - val_accuracy: 0.0000e+00\n",
            "Epoch 91/100\n",
            "18/18 [==============================] - 0s 3ms/step - loss: -4.2359 - mae: 2.3703 - accuracy: 0.0000e+00 - val_loss: -4.2287 - val_mae: 2.2916 - val_accuracy: 0.0000e+00\n",
            "Epoch 92/100\n",
            "18/18 [==============================] - 0s 3ms/step - loss: -4.3296 - mae: 2.3715 - accuracy: 0.0000e+00 - val_loss: -4.2287 - val_mae: 2.2916 - val_accuracy: 0.0000e+00\n",
            "Epoch 93/100\n",
            "18/18 [==============================] - 0s 4ms/step - loss: -4.1847 - mae: 2.3707 - accuracy: 0.0000e+00 - val_loss: -4.2287 - val_mae: 2.2916 - val_accuracy: 0.0000e+00\n",
            "Epoch 94/100\n",
            "18/18 [==============================] - 0s 4ms/step - loss: -4.1749 - mae: 2.3698 - accuracy: 0.0000e+00 - val_loss: -4.2287 - val_mae: 2.2916 - val_accuracy: 0.0000e+00\n",
            "Epoch 95/100\n",
            "18/18 [==============================] - 0s 3ms/step - loss: -4.2053 - mae: 2.3702 - accuracy: 0.0000e+00 - val_loss: -4.2287 - val_mae: 2.2916 - val_accuracy: 0.0000e+00\n",
            "Epoch 96/100\n",
            "18/18 [==============================] - 0s 4ms/step - loss: -4.2431 - mae: 2.3698 - accuracy: 0.0000e+00 - val_loss: -4.2287 - val_mae: 2.2916 - val_accuracy: 0.0000e+00\n",
            "Epoch 97/100\n",
            "18/18 [==============================] - 0s 3ms/step - loss: -4.2516 - mae: 2.3703 - accuracy: 0.0000e+00 - val_loss: -4.2287 - val_mae: 2.2916 - val_accuracy: 0.0000e+00\n",
            "Epoch 98/100\n",
            "18/18 [==============================] - 0s 3ms/step - loss: -4.2746 - mae: 2.3705 - accuracy: 0.0000e+00 - val_loss: -4.2287 - val_mae: 2.2916 - val_accuracy: 0.0000e+00\n",
            "Epoch 99/100\n",
            "18/18 [==============================] - 0s 4ms/step - loss: -4.1849 - mae: 2.3702 - accuracy: 0.0000e+00 - val_loss: -4.2287 - val_mae: 2.2916 - val_accuracy: 0.0000e+00\n",
            "Epoch 100/100\n",
            "18/18 [==============================] - 0s 3ms/step - loss: -4.1800 - mae: 2.3689 - accuracy: 0.0000e+00 - val_loss: -4.2287 - val_mae: 2.2916 - val_accuracy: 0.0000e+00\n"
          ]
        }
      ]
    },
    {
      "cell_type": "code",
      "source": [
        "#Оценка нейронной сети\n",
        "\n",
        "scores = model.evaluate(x_test, y_test)\n",
        "print(\"\\n%s: %.2f%%\" % (model.metrics_names[1], scores[1]*100))"
      ],
      "metadata": {
        "colab": {
          "base_uri": "https://localhost:8080/"
        },
        "id": "48FPvl4uzldt",
        "outputId": "15b15cf5-76b4-487e-c5de-5917f16c8bfe"
      },
      "execution_count": null,
      "outputs": [
        {
          "output_type": "stream",
          "name": "stdout",
          "text": [
            "10/10 [==============================] - 0s 2ms/step - loss: -4.5820 - mae: 2.3606 - accuracy: 0.0000e+00\n",
            "\n",
            "mae: 236.06%\n"
          ]
        }
      ]
    },
    {
      "cell_type": "code",
      "source": [
        "#Оценка точности модели на тренировочном и тестовом датасетах\n",
        "def model_loss_plot(model_hist):\n",
        "    plt.figure(figsize = (17,5))\n",
        "    plt.plot(model_hist.history['loss'],\n",
        "             label = 'ошибка на тренировочном датасете')\n",
        "    plt.plot(model_hist.history['val_loss'],\n",
        "            label = 'ошибка на тестовом датасете')\n",
        "    plt.title('График потерь модели')\n",
        "    plt.ylabel('Значение ошибки')\n",
        "    plt.xlabel('Эпохи')\n",
        "    plt.legend(['Oшибка на тренировочном датасете', 'Ошибка на тестовом датасете'], loc='best')\n",
        "    plt.show()\n",
        "model_loss_plot(model_hist)"
      ],
      "metadata": {
        "colab": {
          "base_uri": "https://localhost:8080/",
          "height": 350
        },
        "id": "7zQtFbhe9dGA",
        "outputId": "a6de6812-04d8-4afd-c8c9-2dc7a82befbe"
      },
      "execution_count": null,
      "outputs": [
        {
          "output_type": "display_data",
          "data": {
            "text/plain": [
              "<Figure size 1224x360 with 1 Axes>"
            ],
            "image/png": "[encoded data removed]"
          },
          "metadata": {
            "needs_background": "light"
          }
        }
      ]
    },
    {
      "cell_type": "code",
      "source": [
        "#Сохраняем модель\n",
        "pickle.dump(model, open('model.pkl', 'wb'))"
      ],
      "metadata": {
        "id": "0ie_ZuFaCtph"
      },
      "execution_count": null,
      "outputs": []
    }
  ]
}